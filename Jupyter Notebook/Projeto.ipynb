{
 "cells": [
  {
   "cell_type": "code",
   "execution_count": 2,
   "id": "c66eb342-7436-43c9-a371-82286e5a56b2",
   "metadata": {},
   "outputs": [],
   "source": [
    "class AFazer():\n",
    "    def __init__(self, afazer, completo=False):\n",
    "        self.afazer = afazer\n",
    "        self.completo = completo"
   ]
  },
  {
   "cell_type": "code",
   "execution_count": 3,
   "id": "8b6719c1-f0b4-4f3d-a2d7-fffc9d11cf68",
   "metadata": {},
   "outputs": [],
   "source": [
    "atv1 = AFazer(\"Preparar Aula\")"
   ]
  },
  {
   "cell_type": "code",
   "execution_count": 5,
   "id": "ba39a821-2fc1-46ce-afa1-b59dcfa8a4f6",
   "metadata": {},
   "outputs": [
    {
     "data": {
      "text/plain": [
       "'Preparar Aula'"
      ]
     },
     "execution_count": 5,
     "metadata": {},
     "output_type": "execute_result"
    }
   ],
   "source": [
    "atv1.afazer"
   ]
  },
  {
   "cell_type": "code",
   "execution_count": 6,
   "id": "4a7bccd6-733d-4573-ad2b-ae89178b4eee",
   "metadata": {},
   "outputs": [
    {
     "data": {
      "text/plain": [
       "False"
      ]
     },
     "execution_count": 6,
     "metadata": {},
     "output_type": "execute_result"
    }
   ],
   "source": [
    "atv1.completo"
   ]
  },
  {
   "cell_type": "code",
   "execution_count": null,
   "id": "7e911e52-dda7-491a-ab80-fc071deeb02c",
   "metadata": {},
   "outputs": [],
   "source": []
  }
 ],
 "metadata": {
  "kernelspec": {
   "display_name": "Python 3 (ipykernel)",
   "language": "python",
   "name": "python3"
  },
  "language_info": {
   "codemirror_mode": {
    "name": "ipython",
    "version": 3
   },
   "file_extension": ".py",
   "mimetype": "text/x-python",
   "name": "python",
   "nbconvert_exporter": "python",
   "pygments_lexer": "ipython3",
   "version": "3.13.3"
  }
 },
 "nbformat": 4,
 "nbformat_minor": 5
}
