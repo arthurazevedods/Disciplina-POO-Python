{
 "cells": [
  {
   "cell_type": "markdown",
   "id": "eecebdb8-33f3-442d-8bf7-6808283b8162",
   "metadata": {},
   "source": [
    "# Exemplo de Jupyter Notebook"
   ]
  },
  {
   "cell_type": "markdown",
   "id": "87d49441-66b3-4521-81f4-cc6b58299f28",
   "metadata": {},
   "source": [
    "## O que é Jupyter Notebook?\n",
    " - Ambiente de desenvolvimento interativo\n",
    "\n",
    " - Combina código, texto, visualizações e resultados\n",
    "\n",
    " - Suporta múltiplas linguagens (principalmente Python)\n",
    "\n",
    " - Ferramenta essencial para ciência de dados"
   ]
  },
  {
   "cell_type": "markdown",
   "id": "d5fb3813-96ea-4223-9955-2d38cf2a9a88",
   "metadata": {},
   "source": [
    "## Interface do Jupyter\n",
    "\n",
    "- Células de código vs células de markdown\n",
    "\n",
    "- Menu superior e barra de ferramentas\n",
    "\n",
    "- Atalhos úteis (Shift+Enter, Esc+M, Esc+Y)\n"
   ]
  },
  {
   "cell_type": "markdown",
   "id": "483374f2-0539-4f86-a661-4ea9c434edbd",
   "metadata": {},
   "source": [
    "## Como funciona?\n",
    "- Células: O notebook é dividido em \"blocos\" independentes\n",
    "\n",
    "- Células de código: Executam comandos Python\n",
    "\n",
    "- Células de Markdown: Explicações em texto formatado"
   ]
  },
  {
   "cell_type": "markdown",
   "id": "569cdf13-d39a-48f6-8d58-f252100a34e6",
   "metadata": {},
   "source": [
    "## Por que usar Jupyter?\n",
    "\n",
    "- Prototipagem rápida\n",
    "\n",
    "- Documentação integrada\n",
    "\n",
    "- Visualização imediata\n",
    "\n",
    "- Ótimo para aprendizado e ensino"
   ]
  },
  {
   "cell_type": "markdown",
   "id": "31a904e5-47a6-48dc-aa09-ccdb20a640e7",
   "metadata": {},
   "source": [
    "## Variáveis e Tipos Básicos\n",
    "Conceito: Variáveis armazenam dados na memória. Python tem tipos dinâmicos (não declaramos o tipo).\n",
    "\n",
    "\n",
    "Dica: Use type() para descobrir o tipo de qualquer variável!"
   ]
  },
  {
   "cell_type": "code",
   "execution_count": 70,
   "id": "f108ebe2-1e0d-45fa-abd9-a18f43e16f4d",
   "metadata": {},
   "outputs": [],
   "source": [
    "# Variáveis\n",
    "x = 10\n",
    "nome = \"Python\"\n",
    "verdadeiro = True"
   ]
  },
  {
   "cell_type": "code",
   "execution_count": 71,
   "id": "026b79dd-fad3-41d0-8eac-968fba4618f3",
   "metadata": {},
   "outputs": [
    {
     "name": "stdout",
     "output_type": "stream",
     "text": [
      "10\n",
      "Python\n",
      "True\n"
     ]
    }
   ],
   "source": [
    "print(x)\n",
    "print(nome)\n",
    "print(verdadeiro)"
   ]
  },
  {
   "cell_type": "code",
   "execution_count": 72,
   "id": "39de04c9-a639-41be-8207-9504cd5d126d",
   "metadata": {
    "scrolled": true
   },
   "outputs": [
    {
     "name": "stdout",
     "output_type": "stream",
     "text": [
      "<class 'int'>\n",
      "<class 'float'>\n",
      "<class 'str'>\n",
      "<class 'bool'>\n"
     ]
    }
   ],
   "source": [
    "# Tipos\n",
    "print(type(x))          # int\n",
    "print(type(3.14))       # float\n",
    "print(type(\"texto\"))    # str\n",
    "print(type(True))       # bool"
   ]
  },
  {
   "cell_type": "markdown",
   "id": "b6aa1c13-7132-4e95-a08e-e0a23fc2cfb2",
   "metadata": {},
   "source": [
    "## Operadores"
   ]
  },
  {
   "cell_type": "code",
   "execution_count": 73,
   "id": "4276317b-555b-46f1-a8fb-74c97745c749",
   "metadata": {},
   "outputs": [
    {
     "name": "stdout",
     "output_type": "stream",
     "text": [
      "8\n",
      "3.3333333333333335\n",
      "3\n"
     ]
    }
   ],
   "source": [
    "## Aritméticos\n",
    "print(5 + 3)\n",
    "print(10 / 3)\n",
    "print(10 // 3)  # Divisão inteira"
   ]
  },
  {
   "cell_type": "code",
   "execution_count": 74,
   "id": "e31e4cf9-f910-4ccc-bc14-a958386e0772",
   "metadata": {},
   "outputs": [
    {
     "name": "stdout",
     "output_type": "stream",
     "text": [
      "True\n",
      "False\n"
     ]
    }
   ],
   "source": [
    "## Comparação\n",
    "print(5 > 3)\n",
    "print(\"a\" == \"A\")"
   ]
  },
  {
   "cell_type": "code",
   "execution_count": 75,
   "id": "e638e1f7-31b1-4488-92e6-5c82d4e7ab33",
   "metadata": {},
   "outputs": [
    {
     "name": "stdout",
     "output_type": "stream",
     "text": [
      "False\n",
      "True\n",
      "False\n"
     ]
    }
   ],
   "source": [
    "# Lógicos\n",
    "print(True and False) # and\n",
    "print(True or False) #or\n",
    "print(not True) #not"
   ]
  },
  {
   "cell_type": "markdown",
   "id": "0df309a7-a78c-4312-a7d0-ea68c81fc984",
   "metadata": {},
   "source": [
    "## Estruturas de Controle"
   ]
  },
  {
   "cell_type": "code",
   "execution_count": 76,
   "id": "75354139-d984-4bde-87a9-8f1a7320e900",
   "metadata": {},
   "outputs": [
    {
     "name": "stdout",
     "output_type": "stream",
     "text": [
      "Adulto\n"
     ]
    }
   ],
   "source": [
    "# If-elif-else\n",
    "idade = 18\n",
    "if idade < 12:\n",
    "    print(\"Criança\")\n",
    "elif idade < 18:\n",
    "    print(\"Adolescente\")\n",
    "else:\n",
    "    print(\"Adulto\")\n",
    "\n",
    "\n",
    "\n"
   ]
  },
  {
   "cell_type": "code",
   "execution_count": 77,
   "id": "bc9a6725-981d-4e52-8e6c-bb739ff916ac",
   "metadata": {},
   "outputs": [
    {
     "name": "stdout",
     "output_type": "stream",
     "text": [
      "0\n",
      "1\n",
      "2\n",
      "3\n",
      "4\n"
     ]
    }
   ],
   "source": [
    "# Loop para\n",
    "for i in range(5):\n",
    "    print(i)"
   ]
  },
  {
   "cell_type": "code",
   "execution_count": 78,
   "id": "0f0f3e2a-86a8-417c-87b7-fa068dd084d2",
   "metadata": {},
   "outputs": [
    {
     "name": "stdout",
     "output_type": "stream",
     "text": [
      "0\n",
      "1\n",
      "2\n"
     ]
    }
   ],
   "source": [
    "# Loop enquanto\n",
    "n = 0\n",
    "while n < 3:\n",
    "    print(n)\n",
    "    n += 1"
   ]
  },
  {
   "cell_type": "markdown",
   "id": "7ff3a6e3-22e2-4974-9ce4-0eacf9b7c339",
   "metadata": {},
   "source": [
    "## Estruturas de Dados"
   ]
  },
  {
   "cell_type": "markdown",
   "id": "b01f4ad7-f01a-44db-b04f-49758de0a7cb",
   "metadata": {},
   "source": [
    "### Listas\n",
    "Listas []\n",
    "\n",
    "Mutáveis (podem ser alteradas)\t"
   ]
  },
  {
   "cell_type": "code",
   "execution_count": 79,
   "id": "deed9a28-1d19-4c8c-b37c-10742706b8d5",
   "metadata": {},
   "outputs": [
    {
     "name": "stdout",
     "output_type": "stream",
     "text": [
      "1\n",
      "5\n",
      "[1, 2, 3, 'quatro']\n"
     ]
    }
   ],
   "source": [
    "lista = [1, 2, 3, \"quatro\"]\n",
    "lista.append(5)     # Adiciona o 5 no final\n",
    "print(lista[0])     # Acesso por índice\n",
    "print(lista[-1])    # Último elemento\n",
    "lista.pop()         # Retira o último elemento\n",
    "print(lista)"
   ]
  },
  {
   "cell_type": "code",
   "execution_count": 80,
   "id": "03bea291-997a-4d31-a7fe-380bdf28b2cb",
   "metadata": {
    "scrolled": true
   },
   "outputs": [
    {
     "name": "stdout",
     "output_type": "stream",
     "text": [
      "[3, 2, 3, 'quatro']\n"
     ]
    }
   ],
   "source": [
    "lista[0] = 3    # Alterar o elemento da posição 0\n",
    "print(lista)"
   ]
  },
  {
   "cell_type": "markdown",
   "id": "efe78c73-8f85-43b3-96fe-7a42a6474887",
   "metadata": {},
   "source": [
    "## Funções em Python\n",
    "### Por que usar funções?\n",
    "- Reutilização: Escreva uma vez, use várias vezes\n",
    "\n",
    "- Organização: Divide problemas complexos em partes menores"
   ]
  },
  {
   "cell_type": "code",
   "execution_count": 81,
   "id": "69dd0533-d93d-48af-b6cb-2663931a5cdc",
   "metadata": {},
   "outputs": [
    {
     "name": "stdout",
     "output_type": "stream",
     "text": [
      "22.86\n"
     ]
    }
   ],
   "source": [
    "def calcular_imc(peso, altura):\n",
    "    \"\"\"\n",
    "    Calcula o Índice de Massa Corporal (IMC)\n",
    "    Fórmula: peso / (altura ** 2)\n",
    "    Retorna um float arredondado\n",
    "    \"\"\"\n",
    "    imc = peso / (altura ** 2)\n",
    "    return round(imc, 2)          # Arredonda para 2 casas decimais\n",
    "\n",
    "# Chamando a função\n",
    "print(calcular_imc(70, 1.75))    # Exemplo: 22.86"
   ]
  },
  {
   "cell_type": "markdown",
   "id": "c2c44dc3-9099-40e6-888b-e446affa19c6",
   "metadata": {},
   "source": [
    "- def define a função\n",
    "\n",
    "- O texto entre \"\"\" é a docstring (documentação)\n",
    "\n",
    "- return devolve o resultado"
   ]
  },
  {
   "cell_type": "markdown",
   "id": "c0d96fe5-dd7e-489e-ac3c-e35078fc0a24",
   "metadata": {},
   "source": [
    "# Programação Orientada a Objetos (POO)\n",
    "## Classes e Objetos\n",
    "\n",
    " Analogia: Uma classe é como uma \"receita\", e o objeto é o \"bolo\" feito com ela"
   ]
  },
  {
   "cell_type": "code",
   "execution_count": 82,
   "id": "abae45f6-a806-456a-81d9-d63e87043596",
   "metadata": {},
   "outputs": [
    {
     "name": "stdout",
     "output_type": "stream",
     "text": [
      "Rex diz: Auau!\n"
     ]
    }
   ],
   "source": [
    "class Cachorro:\n",
    "    # Método especial (inicializador)\n",
    "    def __init__(self, nome, idade):\n",
    "        self.nome = nome          # Atributo do objeto\n",
    "        self.idade = idade\n",
    "    \n",
    "    # Método (ação que o objeto pode fazer)\n",
    "    def latir(self):\n",
    "        return f\"{self.nome} diz: Auau!\"\n",
    "\n",
    "# Criando um objeto\n",
    "meu_cao = Cachorro(\"Rex\", 3)\n",
    "print(meu_cao.latir())            # Saída: \"Rex diz: Auau!\""
   ]
  },
  {
   "cell_type": "markdown",
   "id": "e22a2f6f-6336-4411-ad91-b7e52a895985",
   "metadata": {},
   "source": [
    "## Exemplo Pessoa"
   ]
  },
  {
   "cell_type": "code",
   "execution_count": 83,
   "id": "cbb507cd-490e-47b9-9ff3-963ddf3e47ce",
   "metadata": {},
   "outputs": [
    {
     "name": "stdout",
     "output_type": "stream",
     "text": [
      "Olá, meu nome é Carlos e tenho 30 anos.\n"
     ]
    }
   ],
   "source": [
    "class Pessoa:\n",
    "    def __init__(self, nome, idade):\n",
    "        self.nome = nome\n",
    "        self.idade = idade\n",
    "    \n",
    "    def apresentar(self):\n",
    "        return f\"Olá, meu nome é {self.nome} e tenho {self.idade} anos.\"\n",
    "\n",
    "# Criando objeto\n",
    "p1 = Pessoa(\"Carlos\", 30)\n",
    "print(p1.apresentar())"
   ]
  },
  {
   "cell_type": "code",
   "execution_count": 84,
   "id": "a274f8a9-29fe-4f8e-b8d1-e406fae48a69",
   "metadata": {},
   "outputs": [
    {
     "name": "stdout",
     "output_type": "stream",
     "text": [
      "Olá, meu nome é Ana e tenho 22 anos. Eu estudo Engenharia.\n"
     ]
    }
   ],
   "source": [
    "class Estudante(Pessoa):\n",
    "    def __init__(self, nome, idade, curso):\n",
    "        super().__init__(nome, idade)  # Herança\n",
    "        self.curso = curso\n",
    "    \n",
    "    def apresentar(self):   # Polimorfismo\n",
    "        return f\"{super().apresentar()} Eu estudo {self.curso}.\"\n",
    "\n",
    "e1 = Estudante(\"Ana\", 22, \"Engenharia\")\n",
    "print(e1.apresentar())"
   ]
  },
  {
   "cell_type": "markdown",
   "id": "988d6719-3611-4460-9123-01c4de38593c",
   "metadata": {},
   "source": [
    "## Herança e Polimorfismo"
   ]
  },
  {
   "cell_type": "markdown",
   "id": "6474bb5a-7b4c-40bc-aa78-8424da372772",
   "metadata": {},
   "source": [
    "### Conceito: Herança é um mecanismo que permite criar uma nova classe baseada em uma classe existente, aproveitando seus atributos e métodos.\n",
    "\n",
    "- Classe Pai/Mãe (Superclasse): Classe que é herdada\n",
    "\n",
    "- Classe Filha (Subclasse): Classe que herda\n",
    "\n",
    "### Por que usar?\n",
    "- Reutilização de código: Evita repetição\n",
    "\n",
    "- Organização: Cria hierarquias lógicas\n",
    "\n",
    "- Extensibilidade: Adiciona funcionalidades sem modificar a classe original"
   ]
  },
  {
   "cell_type": "code",
   "execution_count": 85,
   "id": "b589999b-d9b9-4c4a-b885-ae91486165e1",
   "metadata": {},
   "outputs": [
    {
     "name": "stdout",
     "output_type": "stream",
     "text": [
      "Au au!\n",
      "Rex está abanando o rabo!\n",
      "Rex\n"
     ]
    }
   ],
   "source": [
    "class Animal:  # Superclasse\n",
    "    def __init__(self, nome):\n",
    "        self.nome = nome\n",
    "    \n",
    "    def emitir_som(self):\n",
    "        return \"Som genérico de animal\"\n",
    "\n",
    "class Cachorro(Animal):  # Subclasse (herda de Animal)\n",
    "    def emitir_som(self):  # Sobrescreve o método da superclasse\n",
    "        return \"Au au!\"\n",
    "    \n",
    "    def abanar_rabo(self):  # Método novo específico de Cachorro\n",
    "        return f\"{self.nome} está abanando o rabo!\"\n",
    "\n",
    "# Uso\n",
    "rex = Cachorro(\"Rex\")\n",
    "print(rex.emitir_som())      # \"Au au!\" (método sobrescrito)\n",
    "print(rex.abanar_rabo())     # Método específico de Cachorro\n",
    "print(rex.nome)             # Herdado da superclasse Animal"
   ]
  },
  {
   "cell_type": "markdown",
   "id": "7b22e518-cc0c-4417-8f48-62e05b392b4e",
   "metadata": {},
   "source": [
    "### Conceito de Polimorfismo: Capacidade de um mesmo método se comportar de maneira diferente em classes diferentes (do grego \"muitas formas\").\n",
    "\n",
    "#### Como funciona?\n",
    "- Mesmo nome de método\n",
    "\n",
    "- Implementações diferentes em classes diferentes\n",
    "\n",
    "- Chamada unificada para objetos de tipos diferentes"
   ]
  },
  {
   "cell_type": "code",
   "execution_count": 86,
   "id": "71893508-58f7-4483-b375-46c3ca5c6db6",
   "metadata": {},
   "outputs": [
    {
     "name": "stdout",
     "output_type": "stream",
     "text": [
      "Voando alto!\n",
      "Pinguins não voam, nadam!\n",
      "Decolando com turbinas!\n"
     ]
    }
   ],
   "source": [
    "class Passaro:\n",
    "    def voar(self):\n",
    "        return \"Voando alto!\"\n",
    "\n",
    "class Pinguim(Passaro):\n",
    "    def voar(self):  # Sobrescreve o método\n",
    "        return \"Pinguins não voam, nadam!\"\n",
    "\n",
    "class Aviao:\n",
    "    def voar(self):   # Nem sequer herda de Passaro\n",
    "        return \"Decolando com turbinas!\"\n",
    "\n",
    "# Função polimórfica\n",
    "def teste_voo(obj):\n",
    "    print(obj.voar())\n",
    "\n",
    "# Testando\n",
    "passaro = Passaro()\n",
    "pinguim = Pinguim()\n",
    "aviao = Aviao()\n",
    "\n",
    "teste_voo(passaro)  # \"Voando alto!\"\n",
    "teste_voo(pinguim)  # \"Pinguins não voam, nadam!\"\n",
    "teste_voo(aviao)    # \"Decolando com turbinas!\""
   ]
  },
  {
   "cell_type": "markdown",
   "id": "60b36602-55f5-4b88-a8ec-4c8b0d780c12",
   "metadata": {},
   "source": [
    "## Exemplo Carro"
   ]
  }
 ],
 "metadata": {
  "kernelspec": {
   "display_name": "Python 3 (ipykernel)",
   "language": "python",
   "name": "python3"
  },
  "language_info": {
   "codemirror_mode": {
    "name": "ipython",
    "version": 3
   },
   "file_extension": ".py",
   "mimetype": "text/x-python",
   "name": "python",
   "nbconvert_exporter": "python",
   "pygments_lexer": "ipython3",
   "version": "3.13.3"
  }
 },
 "nbformat": 4,
 "nbformat_minor": 5
}
